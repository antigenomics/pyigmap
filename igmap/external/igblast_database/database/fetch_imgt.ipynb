{
 "cells": [
  {
   "cell_type": "code",
   "execution_count": 2,
   "metadata": {},
   "outputs": [],
   "source": [
    "import os\n",
    "from sys import platform\n",
    "from Bio import SeqIO\n",
    "\n",
    "species  = ['human', 'mouse']\n",
    "salias = {'human' : 'Homo_sapiens', 'mouse' : 'Mus_musculus'}\n",
    "genes = ['IGHV', 'IGHD', 'IGHJ',\n",
    "         'IGKV', 'IGKJ',\n",
    "         'IGLV', 'IGLJ',\n",
    "         'TRBV', 'TRBD', 'TRBJ',\n",
    "         'TRAV', 'TRAJ',\n",
    "         'TRDV', 'TRDD', 'TRDJ',\n",
    "         'TRGV', 'TRGJ']\n",
    "\n",
    "if platform == 'linux' or platform == 'linux2':\n",
    "    MAKEBLASTDB_CMD = './makeblastdb_linux'\n",
    "elif platform == 'darwin':\n",
    "    MAKEBLASTDB_CMD = './makeblastdb_darwin'\n",
    "elif platform == 'win32':\n",
    "    raise 'Cannot run on Windows'\n",
    "\n",
    "def get_url(s, g):\n",
    "    return f'https://www.imgt.org/download/V-QUEST/IMGT_V-QUEST_reference_directory/{salias[s]}/{g[:2]}/{g}.fasta'\n",
    "\n",
    "def get_name(s, g):\n",
    "    return f'{s}.{g[3]}'"
   ]
  },
  {
   "cell_type": "markdown",
   "metadata": {},
   "source": [
    "Build database according to official instructions from [NCBI](https://ncbi.github.io/igblast/)"
   ]
  },
  {
   "cell_type": "code",
   "execution_count": 3,
   "metadata": {},
   "outputs": [],
   "source": [
    "db_files = {get_name(s, g) for s in species for g in genes}\n",
    "\n",
    "for s in species:\n",
    "    for g in genes:\n",
    "        os.system(f'wget -q {get_url(s, g)} -O ->> {get_name(s, g)}.imgt')\n",
    "\n",
    "for f in db_files:\n",
    "    os.system(f'./edit_imgt_file.pl {f}.imgt > {f}')\n",
    "    # we have duplicates here\n",
    "    seen = set()\n",
    "    records = []\n",
    "    for record in SeqIO.parse(f'{f}', 'fasta'):  \n",
    "        if record.seq not in seen:\n",
    "            seen.add(record.seq)\n",
    "            records.append(record)\n",
    "    SeqIO.write(records, f'{f}', \"fasta\")\n",
    "    os.system(f'rm {f}.imgt')\n",
    "    # build database the same way as in internal_data\n",
    "    os.system(f'{MAKEBLASTDB_CMD} -parse_seqids -dbtype nucl -in {f} >/dev/null 2>&1')\n",
    "    os.system(f'rm {f}')"
   ]
  },
  {
   "cell_type": "markdown",
   "metadata": {},
   "source": [
    "Test"
   ]
  },
  {
   "cell_type": "code",
   "execution_count": 23,
   "metadata": {},
   "outputs": [
    {
     "name": "stdout",
     "output_type": "stream",
     "text": [
      "sequence_id\tsequence\tsequence_aa\tlocus\tstop_codon\tvj_in_frame\tv_frameshift\tproductive\trev_comp\tcomplete_vdj\td_frame\tv_call\td_call\tj_call\tc_call\tsequence_alignment\tgermline_alignment\tsequence_alignment_aa\tgermline_alignment_aa\tv_alignment_start\tv_alignment_end\td_alignment_start\td_alignment_end\tj_alignment_start\tj_alignment_end\tc_alignment_start\tc_alignment_end\tv_sequence_alignment\tv_sequence_alignment_aa\tv_germline_alignment\tv_germline_alignment_aa\td_sequence_alignment\td_sequence_alignment_aa\td_germline_alignment\td_germline_alignment_aa\tj_sequence_alignment\tj_sequence_alignment_aa\tj_germline_alignment\tj_germline_alignment_aa\tc_sequence_alignment\tc_sequence_alignment_aa\tc_germline_alignment\tc_germline_alignment_aa\tfwr1\tfwr1_aa\tcdr1\tcdr1_aa\tfwr2\tfwr2_aa\tcdr2\tcdr2_aa\tfwr3\tfwr3_aa\tfwr4\tfwr4_aa\tcdr3\tcdr3_aa\tjunction\tjunction_length\tjunction_aa\tjunction_aa_length\tv_score\td_score\tj_score\tc_score\tv_cigar\td_cigar\tj_cigar\tc_cigar\tv_support\td_support\tj_support\tc_support\tv_identity\td_identity\tj_identity\tc_identity\tv_sequence_start\tv_sequence_end\tv_germline_start\tv_germline_end\td_sequence_start\td_sequence_end\td_germline_start\td_germline_end\tj_sequence_start\tj_sequence_end\tj_germline_start\tj_germline_end\tc_sequence_start\tc_sequence_end\tc_germline_start\tc_germline_end\tfwr1_start\tfwr1_end\tcdr1_start\tcdr1_end\tfwr2_start\tfwr2_end\tcdr2_start\tcdr2_end\tfwr3_start\tfwr3_end\tfwr4_start\tfwr4_end\tcdr3_start\tcdr3_end\tnp1\tnp1_length\tnp2\tnp2_length\n",
      "ST-E00107:437:h2gtvbbxx:8:1127:5173:1298;1:N:0:64\tTCCCATTAATGAGCAGTCTTCAGTATTAAAACCACTGTCTTGTCACCTCATTTTGCATTACTGTCTTCCGTGGAT\tYCLPW\tIGL\tF\tF\tF\tF\tT\tF\t\tIGHV3-64*03,IGHV3-64*05,IGHV3-64D*06\t\tIGLJ1*01,IGLJ4*01\t\tAATGAGCAGTCTTCAGTATTAAAACCACTGTCTTGTCACCTCATTTTGCATTACTGTCTTC\tAATGAGCAGTCTNNNNNNNNNNNNNNNNNNNNNNNNNNNNNNNNNNNNNNNNNNTGTCTTC\t*AVFSIKTTVLSPHFALLSS\t*AVXXXXXXXXXXXXXXXSS\t1\t12\t\t\t55\t61\t\t\tAATGAGCAGTCT\t*AV\tAATGAGCAGTCT\t*AV\t\t\t\t\tTGTCTTC\tCL\tTGTCTTC\tCL\t\t\t\t\t\t\t\t\t\t\t\t\t\t\t\t\t\t\t\t\t\t\t20.534\t\t14.146\t\t7S245N12M56S39N\t\t61S3N7M7S28N\t\t8.203e+00\t\t2.059e+01\t\t100.000\t\t100.000\t\t8\t19\t246\t257\t\t\t\t\t62\t68\t4\t10\t\t\t\t\t\t\t\t\t\t\t\t\t\t\t\t\t\t\tTCAGTATTAAAACCACTGTCTTGTCACCTCATTTTGCATTAC\t42\t\t\n",
      "ST-E00107:437:h2gtvbbxx:8:1127:5181:1298;1:N:0:64\tCCCCGAACTCACACACTCCGCACCACACACAACATACACATGCACCACACACTGAAGCACACAGTGCACACACACC\tSAHTP\tIGH\tF\t\t\t\tF\tF\t\tTRAV40*01\tIGHD4-11*01,IGHD6-19*01\t\t\tACATACACATGCACCACACACTGAAGCACACAGT\tACATACACATCCACNNNNNNNNNNNNNNNACAGT\tTYTCTTH*STQ\tTYTSTXXXXXQ\t1\t14\t30\t34\t\t\t\t\tACATACACATGCAC\tTYTCT\tACATACACATCCAC\tTYTST\tACAGT\tS\tACAGT\tS\t\t\t\t\t\t\t\t\t\t\t\t\t\t\t\t\t\t\t\t\t\t\t\t\t\t\t20.534\t10.301\t\t\t31S66N14M31S183N\t60S5N5M11S6N\t\t\t8.367e+00\t3.527e+01\t\t\t92.857\t100.000\t\t\t32\t45\t67\t80\t61\t65\t6\t10\t\t\t\t\t\t\t\t\t\t\t\t\t\t\t\t\t\t\t\t\t\t\tCACACACTGAAGCAC\t15\t\t\n",
      "ST-E00107:437:h2gtvbbxx:8:1127:5195:1298;1:N:0:64\tGTCCTGAAGCTGCTGGTTCTCTTGGTCCAACGTTTGAGTCCTCTCACGGCACCGTTTTAGTTCTGCATTTAGGTC\tLVQRLSPLTAPF*FCI*V\tIGH\tT\t\t\tF\tF\tF\t\tIGHV3/OR15-7*01,IGHV3/OR15-7*02,IGHV3/OR15-7*03\tIGHD3-3*02\t\t\tCTTGGTCCAACGTTTGAGTCCTCTCACGGCACCGTTTTAGTTCTGCATTT\tCTTGGTCCAGCCTGGGGGTTCTCTNNNNNNNNNNNNNNNNNNNNGCATTT\tLVQRLSPLTAPF*FCI\tLVQPGGSLXXXXXXXI\t1\t24\t45\t50\t\t\t\t\tCTTGGTCCAACGTTTGAGTCCTCT\tLVQRLSPL\tCTTGGTCCAGCCTGGGGGTTCTCT\tLVQPGGSL\tGCATTT\tI\tGCATTT\tI\t\t\t\t\t\t\t\t\tCTTGGTCCAACGTTTGAGTCCTCT\tLVQRLSPL\t\t\t\t\t\t\t\t\t\t\t\t\t\t\t\t\t20.534\t12.223\t\t\t20S29N24M31S247N\t64S6N6M5S19N\t\t\t8.203e+00\t9.164e+00\t\t\t75.000\t100.000\t\t\t21\t44\t30\t53\t65\t70\t7\t12\t\t\t\t\t\t\t\t\t21\t44\t\t\t\t\t\t\t\t\t\t\t\t\tCACGGCACCGTTTTAGTTCT\t20\t\t\n"
     ]
    }
   ],
   "source": [
    "os.environ['IGDATA'] = os.path.abspath('..')\n",
    "species = 'human'\n",
    "cmd = ' '.join([f'-c_region_db $IGDATA/database/ncbi_{species}_c_genes',\n",
    "f'-germline_db_V $IGDATA/database/{species}.V',\n",
    "f'-germline_db_D $IGDATA/database/{species}.D',\n",
    "f'-germline_db_J $IGDATA/database/{species}.J',\n",
    "f'-organism {species}',\n",
    "f'-auxiliary_data $IGDATA/optional_file/{species}_gl.aux',\n",
    "f'-show_translation -outfmt 19'])\n",
    "seq = \"CAGGCTGAGGACGAGGCTGATTATTACTGCAGTTCATATAGAGGCAGCGCCACTTTCGAGGTGGTGTTCGGCGGAG\"\n",
    "#!cd ../.. && echo \"{seq}\" | bin/igblastn_darwin {cmd}\n",
    "#!cd ../.. && gzcat ../../examples/assets/sample_UHRR_R1.fastq.gz | head\n",
    "#| awk '{if(NR%4==1) {printf(\">%s\\n\",substr($0,2));} else if(NR%4==2) print;}' | tr -s ' ' ';' | \n",
    "#!cd ../.. && echo -e \">S1\\n{seq}\\n>S2\\n{seq}\" | bin/igblastn_darwin {cmd}\n",
    "cmd_awk = '{if(NR%4==1) {printf(\">%s\\\\n\",substr($0,2));} else if(NR%4==2) print;}'\n",
    "cmd_read = f\"cd ../.. && gzcat ../../examples/assets/sample_UHRR_R2.fastq.gz | head | awk '{cmd_awk}' | tr -s ' ' ';'\"\n",
    "#print(cmd_read)\n",
    "!{cmd_read} | bin/igblastn_darwin {cmd}"
   ]
  }
 ],
 "metadata": {
  "kernelspec": {
   "display_name": "Python 3",
   "language": "python",
   "name": "python3"
  },
  "language_info": {
   "codemirror_mode": {
    "name": "ipython",
    "version": 3
   },
   "file_extension": ".py",
   "mimetype": "text/x-python",
   "name": "python",
   "nbconvert_exporter": "python",
   "pygments_lexer": "ipython3",
   "version": "3.8.18"
  }
 },
 "nbformat": 4,
 "nbformat_minor": 2
}

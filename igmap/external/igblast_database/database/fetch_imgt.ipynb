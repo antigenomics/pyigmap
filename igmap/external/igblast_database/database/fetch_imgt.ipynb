{
 "cells": [
  {
   "cell_type": "code",
   "execution_count": 9,
   "metadata": {},
   "outputs": [],
   "source": [
    "import os\n",
    "from sys import platform\n",
    "from Bio import SeqIO\n",
    "\n",
    "species  = ['human', 'mouse']\n",
    "salias = {'human' : 'Homo_sapiens', 'mouse' : 'Mus_musculus'}\n",
    "genes = ['IGHV', 'IGHD', 'IGHJ',\n",
    "         'IGKV', 'IGKJ',\n",
    "         'IGLV', 'IGLJ',\n",
    "         'TRBV', 'TRBD', 'TRBJ',\n",
    "         'TRAV', 'TRAJ',\n",
    "         'TRDV', 'TRDD', 'TRDJ',\n",
    "         'TRGV', 'TRGJ']\n",
    "\n",
    "if platform == 'linux' or platform == 'linux2':\n",
    "    MAKEBLASTDB_CMD = './makeblastdb_linux'\n",
    "elif platform == 'darwin':\n",
    "    MAKEBLASTDB_CMD = './makeblastdb_darwin'\n",
    "elif platform == 'win32':\n",
    "    raise 'Cannot run on Windows'\n",
    "\n",
    "def get_url(s, g):\n",
    "    return f'https://www.imgt.org/download/V-QUEST/IMGT_V-QUEST_reference_directory/{salias[s]}/{g[:2]}/{g}.fasta'\n",
    "\n",
    "def get_name(s, g):\n",
    "    if g[0] == \"I\":\n",
    "        r = \"Ig\"\n",
    "    else:\n",
    "        r = \"TCR\"\n",
    "    return f'{s}.{r}.{g[3]}'"
   ]
  },
  {
   "cell_type": "markdown",
   "metadata": {},
   "source": [
    "Build database according to official instructions from [NCBI](https://ncbi.github.io/igblast/)"
   ]
  },
  {
   "cell_type": "code",
   "execution_count": 11,
   "metadata": {},
   "outputs": [],
   "source": [
    "db_files = {get_name(s, g) for s in species for g in genes}\n",
    "\n",
    "for s in species:\n",
    "    for g in genes:\n",
    "        os.system(f'wget -q {get_url(s, g)} -O ->> {get_name(s, g)}.imgt')\n",
    "        \n",
    "for f in db_files:\n",
    "    os.system(f'./edit_imgt_file.pl {f}.imgt > {f}')\n",
    "    # we have duplicates here\n",
    "    seen = set()\n",
    "    records = []\n",
    "    for record in SeqIO.parse(f'{f}', 'fasta'):  \n",
    "        if record.seq not in seen:\n",
    "            seen.add(record.seq)\n",
    "            records.append(record)\n",
    "    SeqIO.write(records, f'{f}', \"fasta\")\n",
    "    os.system(f'rm {f}.imgt')\n",
    "    # build database the same way as in internal_data\n",
    "    os.system(f'{MAKEBLASTDB_CMD} -parse_seqids -dbtype nucl -in {f} >/dev/null 2>&1')\n",
    "    os.system(f'rm {f}')"
   ]
  },
  {
   "cell_type": "markdown",
   "metadata": {},
   "source": [
    "Test"
   ]
  },
  {
   "cell_type": "code",
   "execution_count": 12,
   "metadata": {},
   "outputs": [
    {
     "name": "stdout",
     "output_type": "stream",
     "text": [
      "BLAST Database error: No alias or index file found for nucleotide database [/Users/mikesh/vcs/pyigmap/igmap/external/igblast_database/database/human.V] in search path [/Users/mikesh/vcs/pyigmap/igmap/external::]\n"
     ]
    }
   ],
   "source": [
    "os.environ['IGDATA'] = os.path.abspath('..')\n",
    "species = 'human'\n",
    "cmd = ' '.join([f'-c_region_db $IGDATA/database/ncbi_{species}_c_genes',\n",
    "f'-germline_db_V $IGDATA/database/{species}.V',\n",
    "f'-germline_db_D $IGDATA/database/{species}.D',\n",
    "f'-germline_db_J $IGDATA/database/{species}.J',\n",
    "f'-organism {species}',\n",
    "f'-auxiliary_data $IGDATA/optional_file/{species}_gl.aux',\n",
    "f'-show_translation -outfmt 19'])\n",
    "seq = \"CAGGCTGAGGACGAGGCTGATTATTACTGCAGTTCATATAGAGGCAGCGCCACTTTCGAGGTGGTGTTCGGCGGAG\"\n",
    "#!cd ../.. && echo \"{seq}\" | bin/igblastn_darwin {cmd}\n",
    "#!cd ../.. && gzcat ../../examples/assets/sample_UHRR_R1.fastq.gz | head\n",
    "#| awk '{if(NR%4==1) {printf(\">%s\\n\",substr($0,2));} else if(NR%4==2) print;}' | tr -s ' ' ';' | \n",
    "#!cd ../.. && echo -e \">S1\\n{seq}\\n>S2\\n{seq}\" | bin/igblastn_darwin {cmd}\n",
    "cmd_awk = '{if(NR%4==1) {printf(\">%s\\\\n\",substr($0,2));} else if(NR%4==2) print;}'\n",
    "cmd_read = f\"cd ../.. && gzcat ../../examples/assets/sample_UHRR_R2.fastq.gz | head -n 40 | awk '{cmd_awk}' | tr -s ' ' ';'\"\n",
    "#print(cmd_read)\n",
    "!{cmd_read} | bin/igblastn_darwin {cmd}"
   ]
  }
 ],
 "metadata": {
  "kernelspec": {
   "display_name": "Python 3",
   "language": "python",
   "name": "python3"
  },
  "language_info": {
   "codemirror_mode": {
    "name": "ipython",
    "version": 3
   },
   "file_extension": ".py",
   "mimetype": "text/x-python",
   "name": "python",
   "nbconvert_exporter": "python",
   "pygments_lexer": "ipython3",
   "version": "3.8.18"
  }
 },
 "nbformat": 4,
 "nbformat_minor": 2
}

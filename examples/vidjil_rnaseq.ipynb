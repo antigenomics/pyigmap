{
 "cells": [
  {
   "cell_type": "code",
   "execution_count": null,
   "metadata": {},
   "outputs": [],
   "source": [
    "import sys\n",
    "sys.path.append(\"..\")\n",
    "import pandas as pd\n",
    "from igmap.vidjil import VidjilWrapper"
   ]
  },
  {
   "cell_type": "code",
   "execution_count": null,
   "metadata": {},
   "outputs": [],
   "source": [
    "!{VidjilWrapper().detect_cmd('assets/sample*.fastq.gz', 'tmp/vidjil')}"
   ]
  },
  {
   "cell_type": "code",
   "execution_count": null,
   "metadata": {},
   "outputs": [],
   "source": [
    "!{VidjilWrapper().clones_cmd('tmp/vidjil/_p*.fa', 'tmp/vidjil')}\n",
    "!rm -r tmp/vidjil/_p*"
   ]
  },
  {
   "cell_type": "code",
   "execution_count": null,
   "metadata": {},
   "outputs": [],
   "source": [
    "!rm -rf tmp/vidjil/\n",
    "!{VidjilWrapper().run_cmd('assets/sample*.fastq.gz', 'tmp/vidjil')}"
   ]
  },
  {
   "cell_type": "code",
   "execution_count": null,
   "metadata": {},
   "outputs": [],
   "source": [
    "df = pd.read_csv('tmp/vidjil/result.tsv',\n",
    "                 sep='\\t',\n",
    "                 low_memory=False, \n",
    "                 usecols=lambda c: not c.startswith('Unnamed:'))\n",
    "print(df.columns)\n",
    "df.sort_values('duplicate_count', inplace=True, ascending=False)\n",
    "df.dropna(subset=['v_call', 'j_call'], inplace=True)\n",
    "print(df)"
   ]
  }
 ],
 "metadata": {
  "kernelspec": {
   "display_name": "Python 3",
   "language": "python",
   "name": "python3"
  },
  "language_info": {
   "codemirror_mode": {
    "name": "ipython",
    "version": 3
   },
   "file_extension": ".py",
   "mimetype": "text/x-python",
   "name": "python",
   "nbconvert_exporter": "python",
   "pygments_lexer": "ipython3",
   "version": "3.8.5"
  },
  "orig_nbformat": 4
 },
 "nbformat": 4,
 "nbformat_minor": 2
}

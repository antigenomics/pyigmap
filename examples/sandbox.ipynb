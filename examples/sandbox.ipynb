{
 "cells": [
  {
   "cell_type": "code",
   "execution_count": 3,
   "metadata": {},
   "outputs": [
    {
     "ename": "ModuleNotFoundError",
     "evalue": "No module named 'igmap.utils'",
     "output_type": "error",
     "traceback": [
      "\u001b[0;31m---------------------------------------------------------------------------\u001b[0m",
      "\u001b[0;31mModuleNotFoundError\u001b[0m                       Traceback (most recent call last)",
      "\u001b[0;32m<ipython-input-3-fed60eb36faf>\u001b[0m in \u001b[0;36m<module>\u001b[0;34m\u001b[0m\n\u001b[1;32m      1\u001b[0m \u001b[0;32mimport\u001b[0m \u001b[0msys\u001b[0m\u001b[0;34m\u001b[0m\u001b[0;34m\u001b[0m\u001b[0m\n\u001b[1;32m      2\u001b[0m \u001b[0msys\u001b[0m\u001b[0;34m.\u001b[0m\u001b[0mpath\u001b[0m\u001b[0;34m.\u001b[0m\u001b[0mappend\u001b[0m\u001b[0;34m(\u001b[0m\u001b[0;34m\"..\"\u001b[0m\u001b[0;34m)\u001b[0m\u001b[0;34m\u001b[0m\u001b[0;34m\u001b[0m\u001b[0m\n\u001b[0;32m----> 3\u001b[0;31m \u001b[0;32mimport\u001b[0m \u001b[0migmap\u001b[0m\u001b[0;34m.\u001b[0m\u001b[0mutils\u001b[0m \u001b[0;32mas\u001b[0m \u001b[0mutils\u001b[0m\u001b[0;34m\u001b[0m\u001b[0;34m\u001b[0m\u001b[0m\n\u001b[0m",
      "\u001b[0;31mModuleNotFoundError\u001b[0m: No module named 'igmap.utils'"
     ]
    }
   ],
   "source": [
    "import sys\n",
    "sys.path.append(\"..\")\n",
    "import igmap.utils as utils"
   ]
  },
  {
   "cell_type": "markdown",
   "metadata": {},
   "source": [
    "> 0123456789012345678901234567890123456789012345678901234567890123456789012345\n",
    "> 0000000000111111111122222222223333333333444444444455555555556666666666777777\n",
    ">                        |                                        |\n",
    "> AGACAGCAGCTTCTACATCTGCAGTGCTAGAGAGTCGACTAGCGATCCAAAAAATGAGCAGTTCTTCGGGCCAGGG\n",
    ">                        |                                        |\n",
    ">\n",
    "> cdr3_sequence_start : last base after C plus 1 : 23\n",
    "> cdr3_sequence_end : first base of F/W : 64"
   ]
  },
  {
   "cell_type": "code",
   "execution_count": null,
   "metadata": {},
   "outputs": [],
   "source": [
    "seq = 'AGACAGCAGCTTCTACATCTGCAGTGCTAGAGAGTCGACTAGCGATCCAAAAAATGAGCAGTTCTTCGGGCCAGGG'\n",
    "v_sequence_end = 33\n",
    "j_sequence_start = 53\n",
    "print(utils.find_cdr3nt_simple(seq))\n",
    "print(utils.find_cdr3nt_simple(seq, v_sequence_end, j_sequence_start))"
   ]
  },
  {
   "cell_type": "markdown",
   "metadata": {},
   "source": [
    "> 0123456789012345678901234567890123456789012345678901234567890123456789012345\n",
    "> 0000000000111111111122222222223333333333444444444455555555556666666666777777\n",
    ">                                           |   |\n",
    "> GGCTGATTATTACTGCAGTTCATATAGAGGCAGCGCCACTTTCGAGGTGGTGTTCGGCGGAGGGACCAAGGTGACC\n",
    ">                                           |   |\n",
    "> GGCTGATTATTACTGCAGTTCATATAGAGGCAGCGCCACTTTC   |\n",
    ">                                               GTGGTGTTCGGCGGAGGGACCAAGGTGACC"
   ]
  },
  {
   "cell_type": "code",
   "execution_count": null,
   "metadata": {},
   "outputs": [],
   "source": [
    "seq = 'GGCTGATTATTACTGCAGTTCATATAGAGGCAGCGCCACTTTCGAGGTGGTGTTCGGCGGAGGGACCAAGGTGACC'\n",
    "v_sequence_end = 43\n",
    "j_sequence_start = 47\n",
    "print(utils.find_cdr3nt_simple(seq))\n",
    "print(utils.find_cdr3nt_simple(seq, v_sequence_end, j_sequence_start))"
   ]
  }
 ],
 "metadata": {
  "kernelspec": {
   "display_name": "base",
   "language": "python",
   "name": "python3"
  },
  "language_info": {
   "codemirror_mode": {
    "name": "ipython",
    "version": 3
   },
   "file_extension": ".py",
   "mimetype": "text/x-python",
   "name": "python",
   "nbconvert_exporter": "python",
   "pygments_lexer": "ipython3",
   "version": "3.8.5"
  },
  "orig_nbformat": 4
 },
 "nbformat": 4,
 "nbformat_minor": 2
}
